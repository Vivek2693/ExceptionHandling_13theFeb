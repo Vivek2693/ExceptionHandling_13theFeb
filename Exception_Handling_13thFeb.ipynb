{
 "cells": [
  {
   "cell_type": "markdown",
   "id": "42da0ca4-3298-4498-91f5-8432e411730e",
   "metadata": {},
   "source": [
    "Q1. Explain why we have to use the Exception class while creating a Custom Exception.\n",
    "Note: Here Exception class refers to the base class for all the exceptions."
   ]
  },
  {
   "cell_type": "markdown",
   "id": "2e3a560c-848e-4c93-bc09-bc5b7632bb66",
   "metadata": {},
   "source": [
    "\n",
    "Sure, I can explain why we have to use the Exception class while creating a custom exception.\n",
    "\n",
    "In Python, all exceptions are derived from the Exception class. This means that any custom exception that we create must also be a subclass of the Exception class. This is because the Exception class provides a number of methods and attributes that are used to handle exceptions. For example, the Exception class has a __str__() method that is used to convert an exception object to a string. This method is used by the print() function to print the exception object.\n",
    "\n",
    "If we do not use the Exception class while creating a custom exception, then our custom exception will not be able to inherit the methods and attributes from the Exception class. This means that we will not be able to use the print() function to print the exception object, and we will not be able to use the exception object in other ways that require it to be a subclass of the Exception class.\n",
    "\n",
    "Here is an example of how to create a custom exception:"
   ]
  },
  {
   "cell_type": "code",
   "execution_count": 1,
   "id": "e88c7afc-060d-44d9-ba39-b87e5b2162bb",
   "metadata": {},
   "outputs": [
    {
     "name": "stdout",
     "output_type": "stream",
     "text": [
      "This is a custom exception\n"
     ]
    }
   ],
   "source": [
    "class MyException(Exception):\n",
    "  \"\"\"\n",
    "  This is a custom exception class.\n",
    "  \"\"\"\n",
    "\n",
    "  def __init__(self, message):\n",
    "    \"\"\"\n",
    "    Initialize the custom exception object.\n",
    "\n",
    "    Args:\n",
    "      message: The message of the exception.\n",
    "    \"\"\"\n",
    "    super().__init__(message)\n",
    "\n",
    "\n",
    "def my_function():\n",
    "  \"\"\"\n",
    "  This function raises a custom exception.\n",
    "  \"\"\"\n",
    "  raise MyException(\"This is a custom exception\")\n",
    "\n",
    "\n",
    "try:\n",
    "  my_function()\n",
    "except MyException as e:\n",
    "  print(e)\n"
   ]
  },
  {
   "cell_type": "markdown",
   "id": "f4bc38f2-3643-45c8-b523-032fd49dc71a",
   "metadata": {},
   "source": [
    "Q2. Write a python program to print Python Exception Hierarchy."
   ]
  },
  {
   "cell_type": "code",
   "execution_count": 5,
   "id": "ea13603b-e3aa-449a-bd25-e63da485cb77",
   "metadata": {},
   "outputs": [
    {
     "name": "stdout",
     "output_type": "stream",
     "text": [
      "BaseException\n",
      "  Exception\n",
      "    TypeError\n",
      "      FloatOperation\n",
      "      MultipartConversionError\n",
      "    StopAsyncIteration\n",
      "    StopIteration\n",
      "    ImportError\n",
      "      ModuleNotFoundError\n",
      "      ZipImportError\n",
      "    OSError\n",
      "      ConnectionError\n",
      "        BrokenPipeError\n",
      "        ConnectionAbortedError\n",
      "        ConnectionRefusedError\n",
      "        ConnectionResetError\n",
      "          RemoteDisconnected\n",
      "      BlockingIOError\n",
      "      ChildProcessError\n",
      "      FileExistsError\n",
      "      FileNotFoundError\n",
      "      IsADirectoryError\n",
      "      NotADirectoryError\n",
      "      InterruptedError\n",
      "        InterruptedSystemCall\n",
      "      PermissionError\n",
      "      ProcessLookupError\n",
      "      TimeoutError\n",
      "      UnsupportedOperation\n",
      "      itimer_error\n",
      "      herror\n",
      "      gaierror\n",
      "      SSLError\n",
      "        SSLCertVerificationError\n",
      "        SSLZeroReturnError\n",
      "        SSLWantWriteError\n",
      "        SSLWantReadError\n",
      "        SSLSyscallError\n",
      "        SSLEOFError\n",
      "      Error\n",
      "        SameFileError\n",
      "      SpecialFileError\n",
      "      ExecError\n",
      "      ReadError\n",
      "      URLError\n",
      "        HTTPError\n",
      "        ContentTooShortError\n",
      "      BadGzipFile\n",
      "    EOFError\n",
      "      IncompleteReadError\n",
      "    RuntimeError\n",
      "      RecursionError\n",
      "      NotImplementedError\n",
      "        ZMQVersionError\n",
      "        StdinNotImplementedError\n",
      "      _DeadlockError\n",
      "      BrokenBarrierError\n",
      "      BrokenExecutor\n",
      "        BrokenThreadPool\n",
      "      SendfileNotAvailableError\n",
      "      ExtractionError\n",
      "      VariableError\n",
      "    NameError\n",
      "      UnboundLocalError\n",
      "    AttributeError\n",
      "      FrozenInstanceError\n",
      "    SyntaxError\n",
      "      IndentationError\n",
      "        TabError\n",
      "    LookupError\n",
      "      IndexError\n",
      "      KeyError\n",
      "        NoSuchKernel\n",
      "        UnknownBackend\n",
      "      CodecRegistryError\n",
      "    ValueError\n",
      "      UnicodeError\n",
      "        UnicodeEncodeError\n",
      "        UnicodeDecodeError\n",
      "        UnicodeTranslateError\n",
      "      UnsupportedOperation\n",
      "      JSONDecodeError\n",
      "      SSLCertVerificationError\n",
      "      Error\n",
      "      UnsupportedDigestmodError\n",
      "      IllegalMonthError\n",
      "      IllegalWeekdayError\n",
      "      ParserError\n",
      "      ClassNotFound\n",
      "      ClipboardEmpty\n",
      "      MessageDefect\n",
      "        NoBoundaryInMultipartDefect\n",
      "        StartBoundaryNotFoundDefect\n",
      "        CloseBoundaryNotFoundDefect\n",
      "        FirstHeaderLineIsContinuationDefect\n",
      "        MisplacedEnvelopeHeaderDefect\n",
      "        MissingHeaderBodySeparatorDefect\n",
      "        MultipartInvariantViolationDefect\n",
      "        InvalidMultipartContentTransferEncodingDefect\n",
      "        UndecodableBytesDefect\n",
      "        InvalidBase64PaddingDefect\n",
      "        InvalidBase64CharactersDefect\n",
      "        InvalidBase64LengthDefect\n",
      "        HeaderDefect\n",
      "          InvalidHeaderDefect\n",
      "          HeaderMissingRequiredValue\n",
      "          NonPrintableDefect\n",
      "          ObsoleteHeaderDefect\n",
      "          NonASCIILocalPartDefect\n",
      "          InvalidDateDefect\n",
      "      MacroToEdit\n",
      "      InvalidFileException\n",
      "      UnequalIterablesError\n",
      "      InvalidVersion\n",
      "      _InvalidELFFileHeader\n",
      "      InvalidWheelFilename\n",
      "      InvalidSdistFilename\n",
      "      InvalidSpecifier\n",
      "      InvalidMarker\n",
      "      UndefinedComparison\n",
      "      UndefinedEnvironmentName\n",
      "      InvalidRequirement\n",
      "        RequirementParseError\n",
      "      InvalidVersion\n",
      "    AssertionError\n",
      "    ArithmeticError\n",
      "      FloatingPointError\n",
      "      OverflowError\n",
      "      ZeroDivisionError\n",
      "        DivisionByZero\n",
      "        DivisionUndefined\n",
      "      DecimalException\n",
      "        Clamped\n",
      "        Rounded\n",
      "          Underflow\n",
      "          Overflow\n",
      "        Inexact\n",
      "          Underflow\n",
      "          Overflow\n",
      "        Subnormal\n",
      "          Underflow\n",
      "        DivisionByZero\n",
      "        FloatOperation\n",
      "        InvalidOperation\n",
      "          ConversionSyntax\n",
      "          DivisionImpossible\n",
      "          DivisionUndefined\n",
      "          InvalidContext\n",
      "    SystemError\n",
      "      CodecRegistryError\n",
      "    ReferenceError\n",
      "    MemoryError\n",
      "    BufferError\n",
      "    Warning\n",
      "      UserWarning\n",
      "        GetPassWarning\n",
      "        FormatterWarning\n",
      "      EncodingWarning\n",
      "      DeprecationWarning\n",
      "        ProvisionalWarning\n",
      "      PendingDeprecationWarning\n",
      "      SyntaxWarning\n",
      "      RuntimeWarning\n",
      "        ProactorSelectorThreadWarning\n",
      "        UnknownTimezoneWarning\n",
      "        PEP440Warning\n",
      "      FutureWarning\n",
      "        ProvisionalCompleterWarning\n",
      "      ImportWarning\n",
      "      UnicodeWarning\n",
      "      BytesWarning\n",
      "      ResourceWarning\n",
      "      DeprecatedTzFormatWarning\n",
      "      PkgResourcesDeprecationWarning\n",
      "    _OptionError\n",
      "    _Error\n",
      "    error\n",
      "    Verbose\n",
      "    Error\n",
      "    SubprocessError\n",
      "      CalledProcessError\n",
      "      TimeoutExpired\n",
      "    TokenError\n",
      "    StopTokenizing\n",
      "    ClassFoundException\n",
      "    EndOfBlock\n",
      "    TraitError\n",
      "    Error\n",
      "    Error\n",
      "      CancelledError\n",
      "      TimeoutError\n",
      "      InvalidStateError\n",
      "    _GiveupOnSendfile\n",
      "    error\n",
      "    Incomplete\n",
      "    TimeoutError\n",
      "    InvalidStateError\n",
      "    LimitOverrunError\n",
      "    QueueEmpty\n",
      "    QueueFull\n",
      "    Empty\n",
      "    Full\n",
      "    ArgumentError\n",
      "    ZMQBaseError\n",
      "      ZMQError\n",
      "        ContextTerminated\n",
      "        Again\n",
      "        InterruptedSystemCall\n",
      "      ZMQBindError\n",
      "      NotDone\n",
      "    PickleError\n",
      "      PicklingError\n",
      "      UnpicklingError\n",
      "    _Stop\n",
      "    ArgumentError\n",
      "    ArgumentTypeError\n",
      "    ConfigError\n",
      "      ConfigLoaderError\n",
      "        ArgumentError\n",
      "      ConfigFileNotFound\n",
      "    ConfigurableError\n",
      "      MultipleInstanceError\n",
      "    ApplicationError\n",
      "    error\n",
      "    TimeoutError\n",
      "    error\n",
      "    ReturnValueIgnoredError\n",
      "    KeyReuseError\n",
      "    UnknownKeyError\n",
      "    LeakedCallbackError\n",
      "    BadYieldError\n",
      "    ReturnValueIgnoredError\n",
      "    Return\n",
      "    InvalidPortNumber\n",
      "    error\n",
      "    LZMAError\n",
      "    RegistryError\n",
      "    _GiveupOnFastCopy\n",
      "    Error\n",
      "      NoSectionError\n",
      "      DuplicateSectionError\n",
      "      DuplicateOptionError\n",
      "      NoOptionError\n",
      "      InterpolationError\n",
      "        InterpolationMissingOptionError\n",
      "        InterpolationSyntaxError\n",
      "        InterpolationDepthError\n",
      "      ParsingError\n",
      "        MissingSectionHeaderError\n",
      "    NoIPAddresses\n",
      "    BadZipFile\n",
      "    LargeZipFile\n",
      "    BadEntryPoint\n",
      "    NoSuchEntryPoint\n",
      "    DuplicateKernelError\n",
      "    ErrorDuringImport\n",
      "    NotOneValueFound\n",
      "    CannotEval\n",
      "    OptionError\n",
      "    BdbQuit\n",
      "    Restart\n",
      "    ExceptionPexpect\n",
      "      EOF\n",
      "      TIMEOUT\n",
      "    PtyProcessError\n",
      "    FindCmdError\n",
      "    HomeDirError\n",
      "    ProfileDirError\n",
      "    IPythonCoreError\n",
      "      TryNext\n",
      "      UsageError\n",
      "      StdinNotImplementedError\n",
      "    InputRejected\n",
      "    GetoptError\n",
      "    ErrorToken\n",
      "    PrefilterError\n",
      "    AliasError\n",
      "      InvalidAliasError\n",
      "    Error\n",
      "      InterfaceError\n",
      "      DatabaseError\n",
      "        InternalError\n",
      "        OperationalError\n",
      "        ProgrammingError\n",
      "        IntegrityError\n",
      "        DataError\n",
      "        NotSupportedError\n",
      "    Warning\n",
      "    SpaceInInput\n",
      "    DOMException\n",
      "      IndexSizeErr\n",
      "      DomstringSizeErr\n",
      "      HierarchyRequestErr\n",
      "      WrongDocumentErr\n",
      "      InvalidCharacterErr\n",
      "      NoDataAllowedErr\n",
      "      NoModificationAllowedErr\n",
      "      NotFoundErr\n",
      "      NotSupportedErr\n",
      "      InuseAttributeErr\n",
      "      InvalidStateErr\n",
      "      SyntaxErr\n",
      "      InvalidModificationErr\n",
      "      NamespaceErr\n",
      "      InvalidAccessErr\n",
      "      ValidationErr\n",
      "    ValidationError\n",
      "    EditReadOnlyBuffer\n",
      "    _Retry\n",
      "    InvalidLayoutError\n",
      "    HeightIsUnknownError\n",
      "    ParserSyntaxError\n",
      "    InternalParseError\n",
      "    _PositionUpdatingFinished\n",
      "    SimpleGetItemNotFound\n",
      "    UncaughtAttributeError\n",
      "    HasNoContext\n",
      "    ParamIssue\n",
      "    _JediError\n",
      "      InternalError\n",
      "      WrongVersion\n",
      "      RefactoringError\n",
      "    OnErrorLeaf\n",
      "    InvalidPythonEnvironment\n",
      "    MessageError\n",
      "      MessageParseError\n",
      "        HeaderParseError\n",
      "        BoundaryError\n",
      "      MultipartConversionError\n",
      "      CharsetError\n",
      "    Error\n",
      "    HTTPException\n",
      "      NotConnected\n",
      "      InvalidURL\n",
      "      UnknownProtocol\n",
      "      UnknownTransferEncoding\n",
      "      UnimplementedFileMode\n",
      "      IncompleteRead\n",
      "      ImproperConnectionState\n",
      "        CannotSendRequest\n",
      "        CannotSendHeader\n",
      "        ResponseNotReady\n",
      "      BadStatusLine\n",
      "        RemoteDisconnected\n",
      "      LineTooLong\n",
      "    InteractivelyDefined\n",
      "    KillEmbedded\n",
      "    Error\n",
      "      NoSuchProcess\n",
      "        ZombieProcess\n",
      "      AccessDenied\n",
      "      TimeoutExpired\n",
      "    _Ipv6UnsupportedError\n",
      "    QueueEmpty\n",
      "    QueueFull\n",
      "    DebuggerInitializationError\n",
      "    ExpatError\n",
      "    Error\n",
      "      ProtocolError\n",
      "      ResponseError\n",
      "      Fault\n",
      "    ParseBaseException\n",
      "      ParseException\n",
      "      ParseFatalException\n",
      "        ParseSyntaxException\n",
      "    RecursiveGrammarException\n",
      "    ResolutionError\n",
      "      VersionConflict\n",
      "        ContextualVersionConflict\n",
      "      DistributionNotFound\n",
      "      UnknownExtra\n",
      "    _Error\n",
      "    UnableToResolveVariableException\n",
      "    InvalidTypeInArgsException\n",
      "    MyException\n",
      "  GeneratorExit\n",
      "  SystemExit\n",
      "  KeyboardInterrupt\n",
      "  CancelledError\n",
      "  AbortThread\n"
     ]
    }
   ],
   "source": [
    "def print_exception_hierarchy(exception_class, indent=0):\n",
    "    print(\"  \" * indent + exception_class.__name__)\n",
    "    for subclass in exception_class.__subclasses__():\n",
    "        print_exception_hierarchy(subclass, indent + 1)\n",
    "\n",
    "\n",
    "# Print the Exception Hierarchy\n",
    "print_exception_hierarchy(BaseException)\n"
   ]
  },
  {
   "cell_type": "markdown",
   "id": "ce0b39ad-8d2c-4eea-bcdb-a8b200917f71",
   "metadata": {},
   "source": [
    "Q3. What errors are defined in the ArithmeticError class? Explain any two with an example."
   ]
  },
  {
   "cell_type": "markdown",
   "id": "e6b7ed03-ae77-47e3-9415-a5da16d8ae4c",
   "metadata": {},
   "source": [
    "The ArithmeticError class in Python is the base class for all errors related to arithmetic operations. It is a subclass of the Exception class. The ArithmeticError class provides a common base for errors such as division by zero, overflow, underflow, and other arithmetic-related exceptions.\n",
    "\n",
    "Two commonly encountered errors defined in the ArithmeticError class are:\n",
    "\n",
    "ZeroDivisionError: This error occurs when an arithmetic operation attempts to divide a number by zero."
   ]
  },
  {
   "cell_type": "code",
   "execution_count": 6,
   "id": "4fbe00a9-ffe7-4d4e-a71a-23b848d11af1",
   "metadata": {},
   "outputs": [
    {
     "name": "stdout",
     "output_type": "stream",
     "text": [
      "Error: Division by zero occurred.\n"
     ]
    }
   ],
   "source": [
    "try:\n",
    "    result = 10 / 0\n",
    "    print(result)\n",
    "except ZeroDivisionError:\n",
    "    print(\"Error: Division by zero occurred.\")\n"
   ]
  },
  {
   "cell_type": "markdown",
   "id": "1154aac0-e7de-4927-a305-67222394dd04",
   "metadata": {},
   "source": [
    "OverflowError: This error occurs when the result of an arithmetic operation exceeds the maximum representable value for a numeric type."
   ]
  },
  {
   "cell_type": "code",
   "execution_count": 8,
   "id": "016555c3-19a2-4e5a-ae58-bdb2dd372043",
   "metadata": {},
   "outputs": [
    {
     "name": "stdout",
     "output_type": "stream",
     "text": [
      "10715086071862673209484250490600018105614048117055336074437503883703510511249361224931983788156958581275946729175531468251871452856923140435984577574698574803934567774824230985421074605062371141877954182153046474983581941267398767559165543946077062914571196477686542167660429831652624386837205668069376\n"
     ]
    }
   ],
   "source": [
    "try:\n",
    "    result = 2 ** 1000  # Exponential calculation\n",
    "    print(result)\n",
    "except OverflowError:\n",
    "    print(\"Error: Arithmetic operation resulted in an overflow.\")\n"
   ]
  },
  {
   "cell_type": "markdown",
   "id": "05f07077-0cd4-420e-b780-82e7a2ecfecd",
   "metadata": {},
   "source": [
    "These are just two examples of errors defined in the ArithmeticError class. Other errors, such as FloatingPointError, UnderflowError, and OverflowError, may also be encountered when performing arithmetic operations. It's important to handle these errors appropriately to ensure the robustness of the program."
   ]
  },
  {
   "cell_type": "markdown",
   "id": "61e2191f-6abd-45d0-af67-ceb7783ac27a",
   "metadata": {},
   "source": [
    "Q4. Why LookupError class is used? Explain with an example KeyError and IndexError."
   ]
  },
  {
   "cell_type": "markdown",
   "id": "4a647f1c-41d1-4251-b6d1-3f050ed9b3b8",
   "metadata": {},
   "source": [
    "The LookupError class in Python is the base class for exceptions that occur when a lookup or indexing operation fails. It is a subclass of the Exception class. LookupError serves as a common base class for more specific lookup-related exceptions, such as KeyError and IndexError.\n",
    "\n",
    "KeyError:\n",
    "KeyError is raised when a dictionary key is not found. It occurs when you try to access a dictionary using a key that does not exist in the dictionary."
   ]
  },
  {
   "cell_type": "code",
   "execution_count": 11,
   "id": "171e3602-cebf-48df-a1d5-459ae314a0d4",
   "metadata": {},
   "outputs": [
    {
     "name": "stdout",
     "output_type": "stream",
     "text": [
      "Error: Key not found in the dictionary.\n"
     ]
    }
   ],
   "source": [
    "dictionary = {\"a\": 1, \"b\": 2, \"c\": 3}\n",
    "\n",
    "try:\n",
    "    value = dictionary[\"d\"]\n",
    "    print(value)\n",
    "except KeyError:\n",
    "    print(\"Error: Key not found in the dictionary.\")\n"
   ]
  },
  {
   "cell_type": "markdown",
   "id": "298f3fd5-d254-4a64-9c10-ad41283f7496",
   "metadata": {},
   "source": [
    "IndexError:\n",
    "IndexError is raised when a sequence index is out of range. It occurs when you try to access an element from a sequence using an index that is outside the valid range of indices."
   ]
  },
  {
   "cell_type": "code",
   "execution_count": 13,
   "id": "129c80fe-7727-46d4-8514-bec0979aadf1",
   "metadata": {},
   "outputs": [
    {
     "name": "stdout",
     "output_type": "stream",
     "text": [
      "Error: Index out of range.\n"
     ]
    }
   ],
   "source": [
    "numbers = [1, 2, 3]\n",
    "\n",
    "try:\n",
    "    value = numbers[3]\n",
    "    print(value)\n",
    "except IndexError:\n",
    "    print(\"Error: Index out of range.\")\n"
   ]
  },
  {
   "cell_type": "markdown",
   "id": "5275522d-10f7-4bf2-acd6-7baca8c61453",
   "metadata": {},
   "source": [
    "Q5. Explain ImportError. What is ModuleNotFoundError?"
   ]
  },
  {
   "cell_type": "markdown",
   "id": "fd2e1cf5-56d3-4a3c-a8ec-41d527d55cfe",
   "metadata": {},
   "source": [
    "ImportError and ModuleNotFoundError are both exceptions in Python that occur when there is an issue with importing a module. Let's explain each of them:\n",
    "\n",
    "ImportError:\n",
    "ImportError is a general exception that is raised when an import statement fails to import a module.\n",
    "It can occur due to various reasons, such as a misspelled module name, an incorrect module path, or an issue with the module itself.\n",
    "ImportError is a subclass of the Exception class and serves as a base class for more specific import-related exceptions.\n",
    "It can be caught and handled using a try-except block to provide custom error handling or fallback logic."
   ]
  },
  {
   "cell_type": "code",
   "execution_count": 14,
   "id": "4a5f5e20-0464-4829-8d34-460bb48c9c4e",
   "metadata": {},
   "outputs": [
    {
     "name": "stdout",
     "output_type": "stream",
     "text": [
      "Error: Module not found or failed to import.\n"
     ]
    }
   ],
   "source": [
    "try:\n",
    "    import non_existent_module\n",
    "except ImportError:\n",
    "    print(\"Error: Module not found or failed to import.\")\n"
   ]
  },
  {
   "cell_type": "markdown",
   "id": "656a460c-daf2-45f5-81a4-137abb6638b1",
   "metadata": {},
   "source": [
    "ModuleNotFoundError:\n",
    "ModuleNotFoundError is a more specific exception that is raised when an import statement fails to find or locate a module.\n",
    "It is a subclass of ImportError and was introduced in Python 3.6 as a more specific and informative exception.\n",
    "ModuleNotFoundError provides additional details about the failed import, including the name of the module that could not be found or located.\n",
    "It can be caught and handled using a try-except block just like other exceptions."
   ]
  },
  {
   "cell_type": "code",
   "execution_count": 15,
   "id": "e4f549b6-8660-4362-9c7d-05e8363012ef",
   "metadata": {},
   "outputs": [
    {
     "name": "stdout",
     "output_type": "stream",
     "text": [
      "Error: Module not found or failed to import.\n"
     ]
    }
   ],
   "source": [
    "try:\n",
    "    import non_existent_module\n",
    "except ModuleNotFoundError:\n",
    "    print(\"Error: Module not found or failed to import.\")\n"
   ]
  },
  {
   "cell_type": "markdown",
   "id": "df879ec2-0cf5-4130-a65d-47d819736323",
   "metadata": {},
   "source": [
    "While ImportError is a more general exception for import-related issues, ModuleNotFoundError provides more specific information when a module cannot be found or located during import. It is recommended to handle these exceptions accordingly to provide appropriate error messages or fallback behavior in your code."
   ]
  },
  {
   "cell_type": "markdown",
   "id": "65c81814-908f-4d19-8ee2-6477535c22b7",
   "metadata": {},
   "source": [
    "Q6. List down some best practices for exception handling in python."
   ]
  },
  {
   "cell_type": "markdown",
   "id": "f83a819c-8dc0-4d47-b542-86118e84bd95",
   "metadata": {},
   "source": [
    "\n",
    "\n",
    "1.Specific Exception Handling: Handle exceptions at an appropriate level of granularity by catching specific exceptions rather than using a broad except statement. This allows you to handle different exceptions differently and provides more meaningful error messages.\n",
    "\n",
    "2.Use Multiple Except Clauses: Use multiple except clauses to handle different exceptions separately. This helps in providing specific handling for different types of exceptions and improves code readability.\n",
    "\n",
    "3.Use Finally Block: When necessary, use a finally block to ensure that critical cleanup or resource release code is executed regardless of whether an exception occurs or not. The finally block is useful for closing files, releasing locks, or performing any cleanup actions.\n",
    "\n",
    "4.Avoid Bare Except: Avoid using bare except statements without specifying the exception type. This can lead to hiding errors and makes it difficult to debug or identify the root cause of the exception. Instead, catch specific exceptions or use Exception as the base class if necessary.\n",
    "\n",
    "\n",
    "\n",
    "5.Handle Exceptions Locally: Handle exceptions as close to the point where they occur as possible. This helps in localizing the exception handling logic and provides better error reporting, making it easier to identify the cause of the exception.\n",
    "\n",
    "6.Log Exceptions: Use logging frameworks (e.g., logging module) to log exceptions instead of printing them directly to the console. Logging allows you to capture and analyze exceptions more effectively, especially in production environments.\n",
    "\n",
    "7.Avoid Silent Failures: Avoid catching exceptions without any action or logging, as it can lead to silent failures. If an exception occurs and it cannot be handled appropriately, consider allowing the exception to propagate up the call stack.\n",
    "\n",
    "8.Reraise Exceptions: If you catch an exception but cannot handle it completely, consider reraising the exception using the raise statement without any arguments. This allows the exception to propagate up the call stack while preserving the original exception information.\n",
    "\n",
    "9.Use Custom Exceptions: Define custom exception classes when appropriate to provide more specific error handling and to add domain-specific context to the exceptions.\n",
    "\n",
    "10.Keep Error Messages Clear and Informative: Ensure that error messages are clear, informative, and provide enough details to understand the cause of the exception. Include relevant information such as error codes, context, and values that caused the exception."
   ]
  },
  {
   "cell_type": "raw",
   "id": "6ac80e6a-1d7a-402c-a584-c5b1cf4ecf4b",
   "metadata": {},
   "source": [
    "Specific Exception Handling\n",
    "Use Multiple Except Clauses\n",
    "Use Finally Block\n",
    "Avoid Bare Except\n",
    "Handle Exceptions Locally\n",
    "Log Exceptions\n",
    "Avoid Silent Failures\n",
    "Reraise Exceptions\n",
    "Use Custom Exceptions\n",
    "Keep Error Messages Clear and Informative"
   ]
  },
  {
   "cell_type": "code",
   "execution_count": null,
   "id": "f2dbbcd3-0ae8-4825-bc62-8908948844d0",
   "metadata": {},
   "outputs": [],
   "source": []
  }
 ],
 "metadata": {
  "kernelspec": {
   "display_name": "Python 3 (ipykernel)",
   "language": "python",
   "name": "python3"
  },
  "language_info": {
   "codemirror_mode": {
    "name": "ipython",
    "version": 3
   },
   "file_extension": ".py",
   "mimetype": "text/x-python",
   "name": "python",
   "nbconvert_exporter": "python",
   "pygments_lexer": "ipython3",
   "version": "3.10.8"
  }
 },
 "nbformat": 4,
 "nbformat_minor": 5
}
